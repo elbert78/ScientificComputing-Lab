{
 "cells": [
  {
   "cell_type": "markdown",
   "metadata": {},
   "source": [
    "# Variable\n",
    "Datatype:\n",
    "- Number: int & float\n",
    "- String"
   ]
  },
  {
   "cell_type": "code",
   "execution_count": 13,
   "metadata": {},
   "outputs": [
    {
     "name": "stdout",
     "output_type": "stream",
     "text": [
      "'Hello World'\n",
      "I am 20\n"
     ]
    }
   ],
   "source": [
    "# Number\n",
    "number = 10\n",
    "number = 5.3\n",
    "\n",
    "# String\n",
    "sentence = \"Hello World\"\n",
    "\n",
    "sentence = \"'Hello World'\"\n",
    "print(sentence)\n",
    "\n",
    "age = 20\n",
    "print(f'I am {age}') #Print Format"
   ]
  },
  {
   "cell_type": "markdown",
   "metadata": {},
   "source": [
    "# Input"
   ]
  },
  {
   "cell_type": "code",
   "execution_count": 14,
   "metadata": {},
   "outputs": [
    {
     "name": "stdout",
     "output_type": "stream",
     "text": [
      "Hello\n",
      "2005\n"
     ]
    }
   ],
   "source": [
    "sentence = input(\"Enter a Sentence: \")\n",
    "print(sentence)\n",
    "\n",
    "age = input(\"Enter your age: \")\n",
    "dob = 2025 - int(age)\n",
    "print(dob)"
   ]
  },
  {
   "cell_type": "markdown",
   "metadata": {},
   "source": [
    "# Operator\n",
    "\n",
    "## Comparison\n",
    "- \\> Greater Than\n",
    "- < Less Than\n",
    "- == Equal to\n",
    "- != Not Equal to\n",
    "\n",
    "## Logical\n",
    "- and\n",
    "- or\n",
    "- not"
   ]
  },
  {
   "cell_type": "code",
   "execution_count": 19,
   "metadata": {},
   "outputs": [
    {
     "name": "stdout",
     "output_type": "stream",
     "text": [
      "Number is between 10 and 20\n",
      "30\n",
      "-10\n",
      "200\n",
      "0.5\n",
      "10\n",
      "HelloHelloHelloHelloHello\n",
      "104857600000000000000000000\n"
     ]
    }
   ],
   "source": [
    "x = 10\n",
    "y = 20\n",
    "\n",
    "number = int(input(\"Input a number:\"))\n",
    "\n",
    "if(number > 100):\n",
    "  print(\"Number above 100\")\n",
    "# elif(number >= x and number <= y):\n",
    "elif(x <= number <= y):\n",
    "  print(\"Number is between 10 and 20\")\n",
    "else:\n",
    "  print(\"Number lower than 10\")\n",
    "\n",
    "\n",
    "print(x+y)\n",
    "print(x-y)\n",
    "print(x*y)\n",
    "print(x/y)\n",
    "print(x%y)\n",
    "print(\"Hello\" * 5)\n",
    "\n",
    "print(y**20) # Power"
   ]
  },
  {
   "cell_type": "markdown",
   "metadata": {},
   "source": [
    "# Repition\n",
    "- For loop\n",
    "  For loop untuk iterable\\\n",
    "  iterable = object python yang menyuimpan lebih dari 1 elemen\\\n",
    "  List [], Set {}, Tuple (), string\\\n",
    "\n",
    "  Range\\\n",
    "  range(start (default = 0), end(exclusive), increment)\\\n",
    "  \n",
    "- While Loop"
   ]
  },
  {
   "cell_type": "code",
   "execution_count": 41,
   "metadata": {},
   "outputs": [
    {
     "name": "stdout",
     "output_type": "stream",
     "text": [
      "0\n",
      "2\n",
      "4\n",
      "6\n",
      "8\n",
      "------\n",
      "1\n",
      "24\n",
      "5\n",
      "3\n",
      "8\n",
      "------\n",
      "Kiwi - Banana - \n",
      "------\n",
      "0 - Kiwi\n",
      "1 - Banana\n",
      "------\n",
      "0\n",
      "1\n",
      "2\n",
      "3\n",
      "4\n"
     ]
    }
   ],
   "source": [
    "for x in range(0, 10, 2):\n",
    "  print(x)\n",
    "\n",
    "print(\"------\")\n",
    "\n",
    "numbers = [1, 24, 5, 3, 8]\n",
    "for x in numbers:\n",
    "  print(x)\n",
    "\n",
    "\n",
    "print(\"------\")\n",
    "\n",
    "fruits = [\"Apple\", \"Kiwi\", \"Banana\", \"Watermelon\"]\n",
    "\n",
    "# Slicing\n",
    "# [start:end(exclusive aka target-1):increment]\n",
    "for fruit in fruits[1:3]:\n",
    "  print(fruit, end=' - ')\n",
    "\n",
    "print()\n",
    "print(\"------\")\n",
    "\n",
    "# Enumerate\n",
    "for idx, fruit in enumerate(fruits[1:3]):\n",
    "  print(idx, \"-\" , fruit)\n",
    "\n",
    "print(\"------\")\n",
    "\n",
    "# While\n",
    "counter = 0\n",
    "while True:\n",
    "  print(counter)\n",
    "  counter += 1\n",
    "\n",
    "  if(counter == 5):\n",
    "    break"
   ]
  },
  {
   "cell_type": "markdown",
   "metadata": {},
   "source": [
    "# Data Structure\n",
    "- List [] => ordered, changeable, allow duplicate, datatype: any\n",
    "- Set {} => unordered (sorted), unchangeable, no duplicate, datatype: any\n",
    "- Tuple () => ordered, unchangeble, allow duplicate, dataype: any\n",
    "- Dictionary => use key, changeable"
   ]
  },
  {
   "cell_type": "code",
   "execution_count": 45,
   "metadata": {},
   "outputs": [
    {
     "name": "stdout",
     "output_type": "stream",
     "text": [
      "[5, 6, 'Hello']\n",
      "[5, 6, 'Hello', 20]\n",
      "[5, 'Hello', 20]\n",
      "['Hello', 20]\n"
     ]
    }
   ],
   "source": [
    "# List\n",
    "list = [5, 6, \"Hello\"]\n",
    "print(list)\n",
    "list.append(20)\n",
    "print(list)\n",
    "list.remove(6) # The input is the value\n",
    "print(list)\n",
    "list.pop(0)\n",
    "print(list)"
   ]
  },
  {
   "cell_type": "code",
   "execution_count": 49,
   "metadata": {},
   "outputs": [
    {
     "name": "stdout",
     "output_type": "stream",
     "text": [
      "{1, 2, 3}\n",
      "{2, 3}\n"
     ]
    }
   ],
   "source": [
    "# Set\n",
    "set = {1, 3, 2, 1} # Duplicate will ignored\n",
    "print(set)\n",
    "set.pop()\n",
    "print(set)"
   ]
  },
  {
   "cell_type": "code",
   "execution_count": 51,
   "metadata": {},
   "outputs": [
    {
     "name": "stdout",
     "output_type": "stream",
     "text": [
      "(1, 3, 2, 3)\n"
     ]
    }
   ],
   "source": [
    "# Tuple\n",
    "tuple = (1, 3, 2, 3)\n",
    "print(tuple)"
   ]
  },
  {
   "cell_type": "code",
   "execution_count": 54,
   "metadata": {},
   "outputs": [
    {
     "name": "stdout",
     "output_type": "stream",
     "text": [
      "{'name': 'Elbert', 'age': 18}\n",
      "age:  18\n"
     ]
    }
   ],
   "source": [
    "# Dictionary\n",
    "\n",
    "student = {\n",
    "  \"name\": \"Elbert\",\n",
    "  \"age\" : 18,\n",
    "}\n",
    "\n",
    "print(student)\n",
    "print(\"age: \", student[\"age\"])"
   ]
  },
  {
   "cell_type": "markdown",
   "metadata": {},
   "source": [
    "# Function"
   ]
  },
  {
   "cell_type": "code",
   "execution_count": 65,
   "metadata": {},
   "outputs": [
    {
     "name": "stdout",
     "output_type": "stream",
     "text": [
      "Hello there! Moses your major is Computer Science\n",
      "5\n",
      "5\n"
     ]
    }
   ],
   "source": [
    "def greet(name, major):\n",
    "  print(\"Hello there!\", name, \"your major is\", major)\n",
    "\n",
    "greet(\"Moses\", \"Computer Science\")\n",
    "\n",
    "num = 10\n",
    "def changeVariable():\n",
    "  global num\n",
    "\n",
    "  num = 5 \n",
    "  print(num)\n",
    "\n",
    "changeVariable()\n",
    "print(num)"
   ]
  }
 ],
 "metadata": {
  "kernelspec": {
   "display_name": "Python 3",
   "language": "python",
   "name": "python3"
  },
  "language_info": {
   "codemirror_mode": {
    "name": "ipython",
    "version": 3
   },
   "file_extension": ".py",
   "mimetype": "text/x-python",
   "name": "python",
   "nbconvert_exporter": "python",
   "pygments_lexer": "ipython3",
   "version": "3.13.0"
  }
 },
 "nbformat": 4,
 "nbformat_minor": 2
}

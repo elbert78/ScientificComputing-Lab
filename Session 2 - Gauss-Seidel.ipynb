{
 "cells": [
  {
   "cell_type": "markdown",
   "metadata": {},
   "source": [
    "# Gauss-Seidel\n",
    "\n",
    "$Gs = \\frac{1}{\\text{diag}}(y_i - \\Sigma{\\text{non-diag}})$"
   ]
  },
  {
   "cell_type": "code",
   "execution_count": 19,
   "metadata": {},
   "outputs": [],
   "source": [
    "import numpy as np"
   ]
  },
  {
   "cell_type": "code",
   "execution_count": 20,
   "metadata": {},
   "outputs": [],
   "source": [
    "# Define Array\n",
    "x_arr = [\n",
    "  [\n",
    "    [4, -1, 2],\n",
    "    [3, 6, -1],\n",
    "    [2, 1, 5],\n",
    "  ],\n",
    "  [\n",
    "    [6, -1, 2, 0],\n",
    "    [3, 9, 1, -4],\n",
    "    [1, 2, 7, -1],\n",
    "    [2, -3, 1, 8],\n",
    "  ],\n",
    "  [\n",
    "    [6, -1, 2, 0, 0],\n",
    "    [1, 10, 3, -2, 0],\n",
    "    [2, -1, 12, 1, -4],\n",
    "    [0, 3, -2, 9, 1],\n",
    "    [1, -2, 1, 3, 8],\n",
    "  ]\n",
    "]\n",
    "\n",
    "y_arr = [\n",
    "  [8, 9, 3],\n",
    "  [12, 18, 14, 4],\n",
    "  [14, 20, 22, 12, 15],\n",
    "]"
   ]
  },
  {
   "cell_type": "code",
   "execution_count": 21,
   "metadata": {},
   "outputs": [],
   "source": [
    "# Check Diagonal Dominan\n",
    "def check_dianonal_dominan(x):\n",
    "  # Change from normal array to numpy array\n",
    "  x = np.array(x)\n",
    "\n",
    "  # Take out the diagonal\n",
    "  diag = np.diag(np.abs(x))\n",
    "  # print(diag)\n",
    "\n",
    "  # Take out non-diagonal\n",
    "  sum_all_rows = np.sum(np.abs(x), axis = 1) # axis = 1 -> sum row\n",
    "  # print(sum_all_rows)\n",
    "  non_diag = sum_all_rows - diag\n",
    "  # print(non_diag)\n",
    "\n",
    "  # Check diagonal dominant for each rows\n",
    "  if np.all(diag >= non_diag):\n",
    "    return True\n",
    "  else:\n",
    "    return False\n",
    "  \n",
    "def gauss_seidel(x, y, max_iteration, epsilon):\n",
    "  # Change to numpy array\n",
    "  x = np.array(x)\n",
    "  y = np.array(y)\n",
    "\n",
    "  # Take out the diagonal\n",
    "  diag = np.diag(x)\n",
    "\n",
    "  x = -x # Flip to change formula to +\n",
    "\n",
    "  np.fill_diagonal(x, 0)\n",
    "  x_old = np.zeros(len(x))\n",
    "\n",
    "  for i in range(max_iteration):\n",
    "    x_new = np.array(x_old)\n",
    "    \n",
    "    for j, row in enumerate(x):\n",
    "      x_new[j] = (y[j] + np.dot(row, x_new))/diag[j] # Use Plus because x is flip to negative\n",
    "\n",
    "    print(f\"Iteration {i}: {x_new}\")\n",
    "    \n",
    "    euclidean_distance = np.sqrt(np.dot(x_new - x_old, x_new - x_old))\n",
    "    \n",
    "    if euclidean_distance < epsilon:\n",
    "      print(f\"Convergence reached at {i} iteration\") \n",
    "      return True\n",
    "    \n",
    "    x_old = x_new\n",
    "\n",
    "  print(\"Convergence didn't reach after max iteration!\")\n",
    "  return False\n",
    "\n",
    "def run_gauss_seidel(x, y, max_iter, epsilon):\n",
    "  for i, x in enumerate(x):\n",
    "    if check_dianonal_dominan(x):\n",
    "      print(\"Diagonal Dominant\")\n",
    "      if gauss_seidel(x, y[i], max_iter, epsilon):\n",
    "        print(\"Solve!\")\n",
    "      else:\n",
    "        print(\"Not Convergence!\")\n",
    "    else:\n",
    "      print(\"Not Diagonal Dominant\")"
   ]
  },
  {
   "cell_type": "code",
   "execution_count": null,
   "metadata": {},
   "outputs": [
    {
     "name": "stdout",
     "output_type": "stream",
     "text": [
      "Diagonal Dominant\n",
      "Iteration 0: [ 2.   0.5 -0.3]\n",
      "Iteration 1: [ 2.275   0.3125 -0.3725]\n",
      "Iteration 2: [ 2.264375    0.30572917 -0.36689583]\n",
      "Iteration 3: [ 2.25988021  0.30891059 -0.3657342 ]\n",
      "Iteration 4: [ 2.26009475  0.30899693 -0.36583728]\n",
      "Iteration 5: [ 2.26016787  0.30894318 -0.36585579]\n",
      "Iteration 6: [ 2.26016369  0.30894219 -0.36585391]\n",
      "Convergence reached at 6 iteration\n",
      "Solve!\n",
      "Diagonal Dominant\n",
      "Iteration 0: [2.         1.33333333 1.33333333 0.33333333]\n",
      "Iteration 1: [1.77777778 1.40740741 1.39153439 0.40939153]\n",
      "Iteration 2: [1.7707231  1.43709583 1.39492525 0.4218645 ]\n",
      "Iteration 3: [1.77454089 1.44099001 1.39504908 0.4223549 ]\n",
      "Iteration 4: [1.77514864 1.44099162 1.39503186 0.42220572]\n",
      "Iteration 5: [1.77515465 1.44092523 1.39502866 0.42217972]\n",
      "Iteration 6: [1.77514465 1.44091736 1.39502862 0.42217927]\n",
      "Iteration 7: [1.77514335 1.4409176  1.39502867 0.42217968]\n",
      "Convergence reached at 7 iteration\n",
      "Solve!\n",
      "Diagonal Dominant\n",
      "Iteration 0: [2.33333333 1.76666667 1.59166667 1.09814815 1.41423611]\n",
      "Iteration 1: [2.09722222 1.53240741 1.9913966  1.1079261  1.33155221]\n",
      "Iteration 2: [1.9249357  1.43167267 1.98334033 1.14890116 1.31354573]\n",
      "Iteration 3: [1.910832   1.44369493 1.97727606 1.14554684 1.32033016]\n",
      "Iteration 4: [1.91485714 1.44444084 1.97920836 1.14497378 1.31998685]\n",
      "Iteration 5: [1.91433735 1.44379851 1.97917479 1.14521858 1.31980364]\n",
      "Iteration 6: [1.91424149 1.44386713 1.97911501 1.14520278 1.31984618]\n",
      "Iteration 7: [1.91427285 1.44387877 1.97912625 1.14519667 1.31984605]\n",
      "Iteration 8: [1.91427104 1.44387435 1.97912665 1.14519824 1.31984454]\n",
      "Convergence reached at 8 iteration\n",
      "Solve!\n"
     ]
    },
    {
     "ename": "",
     "evalue": "",
     "output_type": "error",
     "traceback": [
      "\u001b[1;31mThe Kernel crashed while executing code in the current cell or a previous cell. \n",
      "\u001b[1;31mPlease review the code in the cell(s) to identify a possible cause of the failure. \n",
      "\u001b[1;31mClick <a href='https://aka.ms/vscodeJupyterKernelCrash'>here</a> for more info. \n",
      "\u001b[1;31mView Jupyter <a href='command:jupyter.viewOutput'>log</a> for further details."
     ]
    }
   ],
   "source": [
    "run_gauss_seidel(x_arr, y_arr, 20, 0.00001)"
   ]
  }
 ],
 "metadata": {
  "kernelspec": {
   "display_name": "base",
   "language": "python",
   "name": "python3"
  },
  "language_info": {
   "codemirror_mode": {
    "name": "ipython",
    "version": 3
   },
   "file_extension": ".py",
   "mimetype": "text/x-python",
   "name": "python",
   "nbconvert_exporter": "python",
   "pygments_lexer": "ipython3",
   "version": "3.12.7"
  }
 },
 "nbformat": 4,
 "nbformat_minor": 2
}
